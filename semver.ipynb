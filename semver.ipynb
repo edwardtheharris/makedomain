{
 "cells": [
  {
   "cell_type": "code",
   "execution_count": 2,
   "metadata": {},
   "outputs": [
    {
     "ename": "AttributeError",
     "evalue": "'collections.OrderedDict' object has no attribute 'bump_major'",
     "output_type": "error",
     "traceback": [
      "\u001b[0;31m---------------------------------------------------------------------------\u001b[0m",
      "\u001b[0;31mAttributeError\u001b[0m                            Traceback (most recent call last)",
      "Cell \u001b[0;32mIn[2], line 8\u001b[0m\n\u001b[1;32m      5\u001b[0m \u001b[39mwith\u001b[39;00m pathlib\u001b[39m.\u001b[39mPath(\u001b[39m'\u001b[39m\u001b[39mversion\u001b[39m\u001b[39m'\u001b[39m)\u001b[39m.\u001b[39mopen(\u001b[39m'\u001b[39m\u001b[39mr\u001b[39m\u001b[39m'\u001b[39m, encoding\u001b[39m=\u001b[39m\u001b[39m'\u001b[39m\u001b[39mutf-8\u001b[39m\u001b[39m'\u001b[39m) \u001b[39mas\u001b[39;00m v_fh:\n\u001b[1;32m      6\u001b[0m     version_info \u001b[39m=\u001b[39m semver\u001b[39m.\u001b[39mparse(v_fh\u001b[39m.\u001b[39mread())\n\u001b[0;32m----> 8\u001b[0m version_info \u001b[39m=\u001b[39m version_info\u001b[39m.\u001b[39;49mbump_major()\n\u001b[1;32m     10\u001b[0m version_info\n",
      "\u001b[0;31mAttributeError\u001b[0m: 'collections.OrderedDict' object has no attribute 'bump_major'"
     ]
    }
   ],
   "source": [
    "import pathlib\n",
    "\n",
    "import semver\n",
    "\n",
    "with pathlib.Path('version').open('r', encoding='utf-8') as v_fh:\n",
    "    version_info = semver.parse_version_info(v_fh.read())\n",
    "\n",
    "version_info = version_info.bump_major()\n",
    "\n",
    "version_info"
   ]
  },
  {
   "cell_type": "code",
   "execution_count": null,
   "metadata": {},
   "outputs": [],
   "source": []
  }
 ],
 "metadata": {
  "kernelspec": {
   "display_name": ".venv",
   "language": "python",
   "name": "python3"
  },
  "language_info": {
   "codemirror_mode": {
    "name": "ipython",
    "version": 3
   },
   "file_extension": ".py",
   "mimetype": "text/x-python",
   "name": "python",
   "nbconvert_exporter": "python",
   "pygments_lexer": "ipython3",
   "version": "3.11.4"
  },
  "orig_nbformat": 4
 },
 "nbformat": 4,
 "nbformat_minor": 2
}
